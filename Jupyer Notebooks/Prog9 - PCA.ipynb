{
 "cells": [
  {
   "cell_type": "code",
   "execution_count": 1,
   "metadata": {},
   "outputs": [
    {
     "name": "stderr",
     "output_type": "stream",
     "text": [
      "C:\\Users\\abhin\\anaconda3\\lib\\importlib\\_bootstrap.py:219: RuntimeWarning: numpy.ufunc size changed, may indicate binary incompatibility. Expected 192 from C header, got 216 from PyObject\n",
      "  return f(*args, **kwds)\n"
     ]
    },
    {
     "data": {
      "text/plain": [
       "array([[19, 21, 27, 41, 25],\n",
       "       [21, 33, 22, 29, 42],\n",
       "       [24, 20, 48, 32, 26],\n",
       "       [23, 19, 32, 40, 26],\n",
       "       [11, 22, 47, 21, 16],\n",
       "       [13, 18, 25, 48, 44],\n",
       "       [19, 11, 17, 36, 23],\n",
       "       [14, 19, 22, 22, 38],\n",
       "       [10, 26, 12, 17, 38],\n",
       "       [18, 14, 29, 35, 38],\n",
       "       [19, 20, 27, 33, 38],\n",
       "       [33, 15, 25, 33, 43],\n",
       "       [37, 34, 19, 45, 20],\n",
       "       [16, 24, 11, 25, 41],\n",
       "       [13, 41, 14, 36, 22],\n",
       "       [29, 15, 42, 37, 12],\n",
       "       [41, 36, 37, 17, 29],\n",
       "       [32, 11, 17, 49, 21],\n",
       "       [18, 32, 16, 17, 43],\n",
       "       [42, 27, 12, 31, 48]])"
      ]
     },
     "execution_count": 1,
     "metadata": {},
     "output_type": "execute_result"
    }
   ],
   "source": [
    "import pandas as pd\n",
    "import numpy as np\n",
    "\n",
    "X = np.random.randint(10,50,100).reshape(20,5)\n",
    "X"
   ]
  },
  {
   "cell_type": "code",
   "execution_count": 2,
   "metadata": {},
   "outputs": [],
   "source": [
    "X_meaned = X - np.mean(X, axis = 0)"
   ]
  },
  {
   "cell_type": "code",
   "execution_count": 3,
   "metadata": {},
   "outputs": [
    {
     "data": {
      "text/plain": [
       "array([[ -3.6 ,  -1.9 ,   1.95,   8.8 ,  -6.65],\n",
       "       [ -1.6 ,  10.1 ,  -3.05,  -3.2 ,  10.35],\n",
       "       [  1.4 ,  -2.9 ,  22.95,  -0.2 ,  -5.65],\n",
       "       [  0.4 ,  -3.9 ,   6.95,   7.8 ,  -5.65],\n",
       "       [-11.6 ,  -0.9 ,  21.95, -11.2 , -15.65],\n",
       "       [ -9.6 ,  -4.9 ,  -0.05,  15.8 ,  12.35],\n",
       "       [ -3.6 , -11.9 ,  -8.05,   3.8 ,  -8.65],\n",
       "       [ -8.6 ,  -3.9 ,  -3.05, -10.2 ,   6.35],\n",
       "       [-12.6 ,   3.1 , -13.05, -15.2 ,   6.35],\n",
       "       [ -4.6 ,  -8.9 ,   3.95,   2.8 ,   6.35],\n",
       "       [ -3.6 ,  -2.9 ,   1.95,   0.8 ,   6.35],\n",
       "       [ 10.4 ,  -7.9 ,  -0.05,   0.8 ,  11.35],\n",
       "       [ 14.4 ,  11.1 ,  -6.05,  12.8 , -11.65],\n",
       "       [ -6.6 ,   1.1 , -14.05,  -7.2 ,   9.35],\n",
       "       [ -9.6 ,  18.1 , -11.05,   3.8 ,  -9.65],\n",
       "       [  6.4 ,  -7.9 ,  16.95,   4.8 , -19.65],\n",
       "       [ 18.4 ,  13.1 ,  11.95, -15.2 ,  -2.65],\n",
       "       [  9.4 , -11.9 ,  -8.05,  16.8 , -10.65],\n",
       "       [ -4.6 ,   9.1 ,  -9.05, -15.2 ,  11.35],\n",
       "       [ 19.4 ,   4.1 , -13.05,  -1.2 ,  16.35]])"
      ]
     },
     "execution_count": 3,
     "metadata": {},
     "output_type": "execute_result"
    }
   ],
   "source": [
    "X_meaned"
   ]
  },
  {
   "cell_type": "code",
   "execution_count": 4,
   "metadata": {},
   "outputs": [
    {
     "data": {
      "text/plain": [
       "array([[ 96.88421053,   7.58947368,   6.6       ,  19.13684211,\n",
       "         -6.51578947],\n",
       "       [  7.58947368,  73.56842105, -22.15263158, -32.08421053,\n",
       "          8.75263158],\n",
       "       [  6.6       , -22.15263158, 128.26052632,  -3.11578947,\n",
       "        -58.03421053],\n",
       "       [ 19.13684211, -32.08421053,  -3.11578947,  99.01052632,\n",
       "        -31.82105263],\n",
       "       [ -6.51578947,   8.75263158, -58.03421053, -31.82105263,\n",
       "        115.60789474]])"
      ]
     },
     "execution_count": 4,
     "metadata": {},
     "output_type": "execute_result"
    }
   ],
   "source": [
    "cov_mat = np.cov(X_meaned,rowvar = False)\n",
    "cov_mat"
   ]
  },
  {
   "cell_type": "code",
   "execution_count": 5,
   "metadata": {},
   "outputs": [
    {
     "name": "stdout",
     "output_type": "stream",
     "text": [
      "[ 30.95780264  71.893751    96.86824939 119.8949225  193.71685341]\n",
      "[[ 0.22382128  0.28579486  0.82970873 -0.40412762 -0.12841193]\n",
      " [-0.57464132 -0.57004729  0.49219239  0.21316898  0.23903782]\n",
      " [-0.40431014  0.40801893  0.10513149  0.48687337 -0.64958106]\n",
      " [-0.54128894 -0.06655522 -0.24023588 -0.7442437  -0.30160358]\n",
      " [-0.40401855  0.64996795 -0.02375216 -0.01718986  0.64300157]]\n"
     ]
    }
   ],
   "source": [
    "eigen_values, eigen_vectors = np.linalg.eigh(cov_mat)\n",
    "print(eigen_values)\n",
    "print(eigen_vectors)"
   ]
  },
  {
   "cell_type": "code",
   "execution_count": 8,
   "metadata": {},
   "outputs": [],
   "source": [
    "sorted_index = np.argsort(eigen_values)[::-1]\n",
    "sorted_eigenVecotors = eigen_vectors[:,sorted_index]"
   ]
  },
  {
   "cell_type": "code",
   "execution_count": 9,
   "metadata": {},
   "outputs": [],
   "source": [
    "n_comp = 2\n",
    "eigen_vectors_subset = sorted_eigenVecotors[:,0:n_comp]"
   ]
  },
  {
   "cell_type": "code",
   "execution_count": 10,
   "metadata": {},
   "outputs": [],
   "source": [
    "X_reuced = np.dot(eigen_vectors_subset.transpose(),X.transpose()).transpose()"
   ]
  },
  {
   "cell_type": "code",
   "execution_count": null,
   "metadata": {},
   "outputs": [],
   "source": []
  }
 ],
 "metadata": {
  "kernelspec": {
   "display_name": "Python 3",
   "language": "python",
   "name": "python3"
  },
  "language_info": {
   "codemirror_mode": {
    "name": "ipython",
    "version": 3
   },
   "file_extension": ".py",
   "mimetype": "text/x-python",
   "name": "python",
   "nbconvert_exporter": "python",
   "pygments_lexer": "ipython3",
   "version": "3.7.6"
  }
 },
 "nbformat": 4,
 "nbformat_minor": 4
}
